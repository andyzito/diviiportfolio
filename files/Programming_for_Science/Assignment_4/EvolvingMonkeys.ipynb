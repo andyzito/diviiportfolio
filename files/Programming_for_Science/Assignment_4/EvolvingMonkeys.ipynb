{
 "cells": [
  {
   "cell_type": "code",
   "execution_count": 36,
   "metadata": {
    "collapsed": false
   },
   "outputs": [],
   "source": [
    "import random as r\n",
    "import copy as c\n",
    "import csv\n",
    "\n",
    "#this is a list of english words I found online\n",
    "with open('/home/azito/Downloads/wordsEn.txt') as words_file:\n",
    "    words = set(word.strip().lower() for word in words_file)\n",
    "\n",
    "class Monkey():\n",
    "    avgwords = 0\n",
    "    \n",
    "    def __init__(self,  wchars = [('a',5),('b',5),('c',5),('d',5),('e',5),('f',5),('g',5),('h',5),('i',5),('j',5),('k',5),('l',5),('m',5),('n',5),('o',5),('p',5),('q',5),('r',5),('s',5),('t',5),('u',5),('v',5),('w',5),('x',5),('y',5),('z',5)]):\n",
    "        self.wchars = wchars\n",
    "\n",
    "#copy-pasted from http://stackoverflow.com/questions/3679694/a-weighted-version-of-random-choice\n",
    "def weighted_choice(choices):\n",
    "    total= sum(w for c, w in choices)\n",
    "    x = r.uniform(0, total)\n",
    "    upto = 0\n",
    "    for c, w in choices:\n",
    "        if upto + w >= x:\n",
    "            return c\n",
    "        upto += w\n",
    "    \n",
    "def lavg(list): #lavg = list average\n",
    "    tot = sum(list)\n",
    "    return tot/len(list)\n",
    "\n",
    "def chk(word):\n",
    "    return word.lower() in words\n",
    "\n",
    "#returns a random string based on the weighted letter choices\n",
    "#provided in 'wchars'\n",
    "def wrand_string(n,wchars):\n",
    "    string = \" \"\n",
    "    for i in range(n):\n",
    "        x = r.randrange(100)\n",
    "        #20% chance of a space, but spaces cannot be consecutive\n",
    "        if x < 20 and string[-1] != ' ': \n",
    "            string += \" \"\n",
    "        #80% chance of a letter\n",
    "        else:\n",
    "            string += weighted_choice(wchars)\n",
    "    return string\n",
    "\n",
    "#produces random (weighted) strings and then checks them for words\n",
    "#of length 3 letters to 7 letters.\n",
    "def monkeys(i,wchars):\n",
    "    total = wrand_string(i,wchars)\n",
    "    words = []\n",
    "    for q in range(2,7):\n",
    "        for a in range(len(total)-q):\n",
    "            s = total[a:a+q]\n",
    "            if chk(s) == True and len(s) > 2:\n",
    "                words.append(s)\n",
    "    return words\n",
    "\n",
    "#takes a monkey function and runs it a bunch of times ('smooth' times)\n",
    "#with numchars of characters and the weighter or nonweighted letters in chars\n",
    "#and returns the average number of worlden words found\n",
    "def average(numchars,chars,smooth,wordlen):\n",
    "    results = []\n",
    "    for i in range(smooth):\n",
    "        words = monkeys(numchars,chars)\n",
    "        foo = len([x for x in words if len(x) == wordlen])\n",
    "        results.append(foo)\n",
    "    return lavg(results)\n",
    "\n",
    "def evolve(members, generations):\n",
    "    mems = {}\n",
    "    for i in range(members): #seed the first generation of monkeys\n",
    "        mems[i] = Monkey()\n",
    "    for n in range(generations):\n",
    "        for i in range(members):\n",
    "            for x in range(len(mems[i].wchars)): #mutate the letter frequencies\n",
    "                a = r.randrange(0,10)\n",
    "                if a == 0:\n",
    "                    mems[i].wchars[x] = (mems[i].wchars[x][0],abs(mems[i].wchars[x][1] + r.uniform(-0.1,.1)))\t\n",
    "            #how many words will the monkey make with those frequencies\n",
    "            mems[i].avgwords = average(100,mems[i].wchars,10,3) + average(100,mems[i].wchars,10,4)\n",
    "        #choose the monkey who made the most words\n",
    "        parentgen = c.deepcopy(mems)\n",
    "        for i in range(members):\n",
    "            parent = se([(m,m.avgwords) for m in parentgen.values()])\n",
    "            mems[i].avgwords = 0 #reset the monkeys\n",
    "            mems[i].wchars = parent.wchars #the next generation all starts with the best monkey's frequencies\n",
    "    return (max(mems.values(),key=lambda x:x.avgwords)).wchars"
   ]
  },
  {
   "cell_type": "code",
   "execution_count": 14,
   "metadata": {
    "collapsed": false
   },
   "outputs": [],
   "source": [
    "with open('test.csv', 'w') as csvfile:\n",
    "    mywriter = csv.writer(csvfile, delimiter=',',\n",
    "                            quotechar='\"', quoting=csv.QUOTE_MINIMAL)\n",
    "    for i in range(0,1000,5):\n",
    "        mywriter.writerow([i,average(i,reg_wchars,10,3),average(i,mychars,10,3)])"
   ]
  },
  {
   "cell_type": "code",
   "execution_count": null,
   "metadata": {
    "collapsed": false
   },
   "outputs": [],
   "source": [
    "evolve(50,1000)"
   ]
  },
  {
   "cell_type": "code",
   "execution_count": null,
   "metadata": {
    "collapsed": true
   },
   "outputs": [],
   "source": []
  }
 ],
 "metadata": {
  "kernelspec": {
   "display_name": "Python 3",
   "language": "python",
   "name": "python3"
  },
  "language_info": {
   "codemirror_mode": {
    "name": "ipython",
    "version": 3
   },
   "file_extension": ".py",
   "mimetype": "text/x-python",
   "name": "python",
   "nbconvert_exporter": "python",
   "pygments_lexer": "ipython3",
   "version": "3.5.0"
  }
 },
 "nbformat": 4,
 "nbformat_minor": 0
}
